{
 "cells": [
  {
   "cell_type": "code",
   "execution_count": 1,
   "metadata": {},
   "outputs": [
    {
     "name": "stdout",
     "output_type": "stream",
     "text": [
      "Welcome to Interactive Python Learning! Your name is? Melvin\n",
      "\n",
      "We have prepared 5 questions for you to answer! Please answer them with Yes or No only. Case is not sensitive.\n",
      "\n",
      "1. Do you have an actual background in any programming Language? yes\n",
      "2. Have you tried programming on that language? no\n",
      "3. Are you somehow familiar on how logic of codes work? no\n",
      "4. Can you understand the code if it is represented by a flowchart? no\n",
      "5. Are you familiar with variable assignment in programming? no\n",
      "BEGINNER\n"
     ]
    }
   ],
   "source": [
    "name = input(\"Welcome to Interactive Python Learning! Your name is? \")\n",
    "\n",
    "print(\"\\nWe have prepared 5 questions for you to answer! Please answer them with Yes or No only. Case is not sensitive.\\n\")\n",
    "\n",
    "answers=[]\n",
    "\n",
    "question1 = input(\"1. Do you have an actual background in any programming Language? \")\n",
    "question1 = question1.lower()\n",
    "answers.append(question1)\n",
    "\n",
    "if question1 == \"yes\":\n",
    "    question2 = input(\"2. Have you tried programming on that language? \")\n",
    "    question2 = question2.lower()\n",
    "    answers.append(question2)\n",
    "    \n",
    "    if question2 == \"yes\":\n",
    "        question3 = input(\"3. Do you understand how logic of codes work? \")\n",
    "    elif question2 == 'no':\n",
    "        question3= input(\"3. Are you somehow familiar on how logic of codes work? \")\n",
    "    question3 = question3.lower()\n",
    "    answers.append(question3)\n",
    "    \n",
    "    if question3 == 'yes':\n",
    "        question4 = input(\"4. Can you represent the code in a flowchart process? \")\n",
    "    elif question3 == 'no':\n",
    "        question4 = input(\"4. Can you understand the code if it is represented by a flowchart? \")     \n",
    "    question4 = question4.lower()\n",
    "    answers.append(question4)\n",
    "    \n",
    "    if question4 == 'yes':\n",
    "        question5 = input(\"5. Do you know how to variable assignment works? \")\n",
    "    elif question4 == 'no':\n",
    "        question5 = input(\"5. Are you familiar with variable assignment in programming? \")\n",
    "    question5 = question5.lower()\n",
    "    answers.append(question5)\n",
    "    \n",
    "    yesCount = 0\n",
    "    noCount = 0\n",
    "    for i in answers:\n",
    "        if i == 'yes':\n",
    "            yesCount+=1\n",
    "        else:\n",
    "            noCount+=1\n",
    "    \n",
    "    if yesCount >= 4:\n",
    "        level = \"ADVANCED\"\n",
    "    elif yesCount == 3:\n",
    "        level = \"INTERMEDIATE\"\n",
    "    elif yesCount <= 2:\n",
    "        level = \"BEGINNER\"\n",
    "    print(level)\n",
    "            \n",
    "elif question1 == \"no\":\n",
    "    question2 = input(\"2. Are you interested in learning Python Programming? \")\n",
    "    question2 = question2.lower()\n",
    "    \n",
    "    if question2 == \"yes\" or question2 == \"no\":\n",
    "        question3 = input(\"3. Are you willing to give most of your time to learning Python Programming? \")\n",
    "    \n",
    "    question3 = question3.lower()\n",
    "    if question3 == 'yes' or question3 == 'no':\n",
    "        question4 = input(\"4. Do you find programming fun? \")\n",
    "            \n",
    "    question4 = question4.lower()\n",
    "    if question4 == 'yes' or question4 == 'no':\n",
    "        question5 = input(\"5. On a scale of 1-10 how fast can you learn the codes? \")\n",
    "    \n",
    "    question5 = int(question5)\n",
    "    level = \"BEGINNER\"\n",
    "    print(level)"
   ]
  },
  {
   "cell_type": "code",
   "execution_count": null,
   "metadata": {},
   "outputs": [],
   "source": []
  },
  {
   "cell_type": "code",
   "execution_count": null,
   "metadata": {},
   "outputs": [],
   "source": []
  }
 ],
 "metadata": {
  "kernelspec": {
   "display_name": "Python 3",
   "language": "python",
   "name": "python3"
  },
  "language_info": {
   "codemirror_mode": {
    "name": "ipython",
    "version": 3
   },
   "file_extension": ".py",
   "mimetype": "text/x-python",
   "name": "python",
   "nbconvert_exporter": "python",
   "pygments_lexer": "ipython3",
   "version": "3.7.6"
  }
 },
 "nbformat": 4,
 "nbformat_minor": 2
}
